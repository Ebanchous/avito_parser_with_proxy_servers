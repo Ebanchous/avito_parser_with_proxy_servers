{
 "cells": [
  {
   "cell_type": "code",
   "execution_count": 30,
   "metadata": {},
   "outputs": [],
   "source": [
    "import pandas as pd\n",
    "import os"
   ]
  },
  {
   "cell_type": "code",
   "execution_count": 31,
   "metadata": {},
   "outputs": [
    {
     "name": "stdout",
     "output_type": "stream",
     "text": [
      "['result_03-02-2020_1.csv', 'result_03-02-2020_2.csv', 'result_04-02-2020_1.csv', 'result_04-02-2020_2.csv', 'result_05-02-2020_1.csv', 'result_05-02-2020_2.csv', 'result_06-02-2020_1.csv', 'result_06-02-2020_2.csv', 'result_07-02-2020_1.csv', 'result_07-02-2020_2.csv', 'result_08-02-2020_1.csv', 'result_08-02-2020_2.csv', 'result_09-02-2020_1.csv', 'result_09-02-2020_2.csv']\n",
      "Wall time: 6.34 s\n"
     ]
    }
   ],
   "source": [
    "%%time\n",
    "folder = os.fsdecode(r'C:\\Users\\DSimonov\\Documents\\scripts\\WebScrap\\collection')\n",
    "#print(folder)\n",
    "os.chdir(r'C:\\Users\\DSimonov\\Documents\\scripts\\WebScrap\\collection')\n",
    "df = pd.DataFrame()\n",
    "filepaths = [f for f in os.listdir(folder) if f.endswith('.csv')]\n",
    "print(filepaths)\n",
    "\n",
    "for file in filepaths:\n",
    "    df_temp = pd.read_csv(file, encoding='cp1251', sep = ';', header=None)\n",
    "    df = df.append(df_temp, ignore_index=True, sort=False)\n",
    "df.columns = ['address','email', 'header', 'date','file']"
   ]
  },
  {
   "cell_type": "code",
   "execution_count": 32,
   "metadata": {},
   "outputs": [
    {
     "name": "stdout",
     "output_type": "stream",
     "text": [
      "<class 'pandas.core.frame.DataFrame'>\n",
      "RangeIndex: 1191837 entries, 0 to 1191836\n",
      "Data columns (total 5 columns):\n",
      "address    1191837 non-null object\n",
      "email      1191837 non-null object\n",
      "header     1179242 non-null object\n",
      "date       1191837 non-null object\n",
      "file       1191837 non-null object\n",
      "dtypes: object(5)\n",
      "memory usage: 45.5+ MB\n"
     ]
    }
   ],
   "source": [
    "df.info()"
   ]
  },
  {
   "cell_type": "code",
   "execution_count": 33,
   "metadata": {},
   "outputs": [
    {
     "name": "stdout",
     "output_type": "stream",
     "text": [
      "Wall time: 12.8 s\n"
     ]
    }
   ],
   "source": [
    "%%time\n",
    "df = df[df.header != '-']\n",
    "df = df[~df['header'].str.contains('домен', na = False) ]\n",
    "df = df[~df['header'].str.contains('\\?', na = False) ]\n",
    "df = df[~df['header'].str.contains('for sale', na = False) ]\n",
    "df = df[~df['header'].str.contains('403 Forbidden', na = False) ]\n",
    "df = df[~df['header'].str.contains('404 Not Found', na = False) ]\n",
    "df = df[~df['header'].str.contains('Blocked/Доступ ограничен', na = False) ]\n",
    "df = df[~df['header'].str.contains('Domain has been assigned', na = False) ]\n",
    "df = df[~df['header'].str.contains('424 Failed Dependency', na = False) ]\n",
    "df = df[~df['header'].str.contains('Welcome to nginx!', na = False) ]\n",
    "df = df[~df['header'].str.contains('Главная', na = False) ]\n",
    "df = df[~df['header'].str.contains('Access forbidden!', na = False) ]\n",
    "df = df[~df['header'].str.contains('Страница снята с публикации | Mottor', na = False) ]\n",
    "df = df[~df['header'].str.contains('Первая страница.', na = False) ]\n",
    "df = df[~df['header'].str.contains('Apache2 Ubuntu Default Page: It works', na = False) ]\n",
    "df = df[~df['header'].str.contains('Главная страница', na = False) ]\n",
    "df = df[~df['header'].str.contains('Домен не добавлен в панели', na = False) ]\n",
    "df = df[~df['header'].str.contains('Главная', na = False) ]\n",
    "df = df[~df['header'].str.contains('Главная', na = False) ]\n",
    "\n",
    "df = df.dropna(subset=['header'])\n",
    "\n",
    "\n",
    "counts = df['header'].value_counts()\n",
    "df = df[df['header'].isin(counts[counts < 15].index)]\n",
    "df = df.drop_duplicates(keep=False, inplace=False)"
   ]
  },
  {
   "cell_type": "code",
   "execution_count": 34,
   "metadata": {},
   "outputs": [
    {
     "data": {
      "text/html": [
       "<div>\n",
       "<style scoped>\n",
       "    .dataframe tbody tr th:only-of-type {\n",
       "        vertical-align: middle;\n",
       "    }\n",
       "\n",
       "    .dataframe tbody tr th {\n",
       "        vertical-align: top;\n",
       "    }\n",
       "\n",
       "    .dataframe thead th {\n",
       "        text-align: right;\n",
       "    }\n",
       "</style>\n",
       "<table border=\"1\" class=\"dataframe\">\n",
       "  <thead>\n",
       "    <tr style=\"text-align: right;\">\n",
       "      <th></th>\n",
       "      <th>address</th>\n",
       "      <th>email</th>\n",
       "      <th>header</th>\n",
       "      <th>date</th>\n",
       "      <th>file</th>\n",
       "    </tr>\n",
       "  </thead>\n",
       "  <tbody>\n",
       "    <tr>\n",
       "      <th>0</th>\n",
       "      <td>http://www.AUTO-TRANZIT.RU</td>\n",
       "      <td>-</td>\n",
       "      <td>Автосервис в Железнодорожном</td>\n",
       "      <td>03/02/2020 - 08:42:17</td>\n",
       "      <td>out87.csv</td>\n",
       "    </tr>\n",
       "    <tr>\n",
       "      <th>4</th>\n",
       "      <td>http://www.AUTO-TRAVELLER.RU</td>\n",
       "      <td>Rating@Mail.ru</td>\n",
       "      <td>Автомобильные путешествия по городам России, о...</td>\n",
       "      <td>03/02/2020 - 08:42:18</td>\n",
       "      <td>out87.csv</td>\n",
       "    </tr>\n",
       "    <tr>\n",
       "      <th>5</th>\n",
       "      <td>http://www.AUTO-TRAVELLER.RU</td>\n",
       "      <td>Рейтинг@Mail.ru</td>\n",
       "      <td>Автомобильные путешествия по городам России, о...</td>\n",
       "      <td>03/02/2020 - 08:42:18</td>\n",
       "      <td>out87.csv</td>\n",
       "    </tr>\n",
       "    <tr>\n",
       "      <th>7</th>\n",
       "      <td>http://www.AUTO-TRED.RU</td>\n",
       "      <td>wordpress@example.com</td>\n",
       "      <td>Компания \"Авто-Трейд\" – Производство и продажа...</td>\n",
       "      <td>03/02/2020 - 08:42:19</td>\n",
       "      <td>out87.csv</td>\n",
       "    </tr>\n",
       "    <tr>\n",
       "      <th>8</th>\n",
       "      <td>http://www.AUTO-TREID.RU</td>\n",
       "      <td>-</td>\n",
       "      <td>Надёжная, недорогая транспортная компания в Но...</td>\n",
       "      <td>03/02/2020 - 08:42:19</td>\n",
       "      <td>out87.csv</td>\n",
       "    </tr>\n",
       "  </tbody>\n",
       "</table>\n",
       "</div>"
      ],
      "text/plain": [
       "                        address                  email  \\\n",
       "0    http://www.AUTO-TRANZIT.RU                      -   \n",
       "4  http://www.AUTO-TRAVELLER.RU         Rating@Mail.ru   \n",
       "5  http://www.AUTO-TRAVELLER.RU        Рейтинг@Mail.ru   \n",
       "7       http://www.AUTO-TRED.RU  wordpress@example.com   \n",
       "8      http://www.AUTO-TREID.RU                      -   \n",
       "\n",
       "                                              header                   date  \\\n",
       "0                       Автосервис в Железнодорожном  03/02/2020 - 08:42:17   \n",
       "4  Автомобильные путешествия по городам России, о...  03/02/2020 - 08:42:18   \n",
       "5  Автомобильные путешествия по городам России, о...  03/02/2020 - 08:42:18   \n",
       "7  Компания \"Авто-Трейд\" – Производство и продажа...  03/02/2020 - 08:42:19   \n",
       "8  Надёжная, недорогая транспортная компания в Но...  03/02/2020 - 08:42:19   \n",
       "\n",
       "        file  \n",
       "0  out87.csv  \n",
       "4  out87.csv  \n",
       "5  out87.csv  \n",
       "7  out87.csv  \n",
       "8  out87.csv  "
      ]
     },
     "execution_count": 34,
     "metadata": {},
     "output_type": "execute_result"
    }
   ],
   "source": [
    "df.head()"
   ]
  },
  {
   "cell_type": "code",
   "execution_count": 35,
   "metadata": {},
   "outputs": [
    {
     "name": "stdout",
     "output_type": "stream",
     "text": [
      "<class 'pandas.core.frame.DataFrame'>\n",
      "Int64Index: 432310 entries, 0 to 1191836\n",
      "Data columns (total 5 columns):\n",
      "address    432310 non-null object\n",
      "email      432310 non-null object\n",
      "header     432310 non-null object\n",
      "date       432310 non-null object\n",
      "file       432310 non-null object\n",
      "dtypes: object(5)\n",
      "memory usage: 19.8+ MB\n"
     ]
    }
   ],
   "source": [
    "df.info()"
   ]
  },
  {
   "cell_type": "code",
   "execution_count": 36,
   "metadata": {},
   "outputs": [
    {
     "name": "stdout",
     "output_type": "stream",
     "text": [
      "Wall time: 445 ms\n"
     ]
    }
   ],
   "source": [
    "%%time\n",
    "df = df.drop_duplicates(subset='header',keep=False, inplace=False)"
   ]
  },
  {
   "cell_type": "code",
   "execution_count": 37,
   "metadata": {},
   "outputs": [
    {
     "data": {
      "text/plain": [
       "0     AUTO-TRANZIT.RU\n",
       "7        AUTO-TRED.RU\n",
       "8       AUTO-TREID.RU\n",
       "12    AUTO-TREND23.RU\n",
       "13     AUTO-TRENDS.RU\n",
       "Name: short_addr, dtype: object"
      ]
     },
     "execution_count": 37,
     "metadata": {},
     "output_type": "execute_result"
    }
   ],
   "source": [
    "df['short_addr'] = df['address'].str[11:]\n",
    "df['short_addr'].head()"
   ]
  },
  {
   "cell_type": "code",
   "execution_count": 38,
   "metadata": {},
   "outputs": [
    {
     "name": "stdout",
     "output_type": "stream",
     "text": [
      "<class 'pandas.core.frame.DataFrame'>\n",
      "Int64Index: 277969 entries, 0 to 1191836\n",
      "Data columns (total 6 columns):\n",
      "address       277969 non-null object\n",
      "email         277969 non-null object\n",
      "header        277969 non-null object\n",
      "date          277969 non-null object\n",
      "file          277969 non-null object\n",
      "short_addr    277969 non-null object\n",
      "dtypes: object(6)\n",
      "memory usage: 14.8+ MB\n"
     ]
    }
   ],
   "source": [
    "df.info()"
   ]
  },
  {
   "cell_type": "code",
   "execution_count": 39,
   "metadata": {},
   "outputs": [
    {
     "name": "stdout",
     "output_type": "stream",
     "text": [
      "Wall time: 4.12 s\n"
     ]
    }
   ],
   "source": [
    "%%time\n",
    "df.to_csv(r'C:\\Users\\DSimonov\\Documents\\scripts\\WebScrap\\final_result_clean_address.csv', sep = \";\", index = False, encoding = 'cp1251')"
   ]
  },
  {
   "cell_type": "code",
   "execution_count": null,
   "metadata": {},
   "outputs": [],
   "source": []
  }
 ],
 "metadata": {
  "kernelspec": {
   "display_name": "Python 3",
   "language": "python",
   "name": "python3"
  },
  "language_info": {
   "codemirror_mode": {
    "name": "ipython",
    "version": 3
   },
   "file_extension": ".py",
   "mimetype": "text/x-python",
   "name": "python",
   "nbconvert_exporter": "python",
   "pygments_lexer": "ipython3",
   "version": "3.8.1"
  }
 },
 "nbformat": 4,
 "nbformat_minor": 4
}
